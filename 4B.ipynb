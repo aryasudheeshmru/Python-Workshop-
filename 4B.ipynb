{
 "cells": [
  {
   "cell_type": "code",
   "execution_count": 1,
   "metadata": {},
   "outputs": [
    {
     "name": "stdout",
     "output_type": "stream",
     "text": [
      "enter a no.\n"
     ]
    }
   ],
   "source": [
    "print(\"enter a no.\")"
   ]
  },
  {
   "cell_type": "code",
   "execution_count": 2,
   "metadata": {},
   "outputs": [
    {
     "name": "stdout",
     "output_type": "stream",
     "text": [
      "20\n"
     ]
    }
   ],
   "source": [
    "a=int(input())"
   ]
  },
  {
   "cell_type": "code",
   "execution_count": 4,
   "metadata": {},
   "outputs": [
    {
     "name": "stdout",
     "output_type": "stream",
     "text": [
      "20 number is even\n"
     ]
    }
   ],
   "source": [
    "if a%2==0:\n",
    "    print(a,\"number is even\")\n",
    "else:\n",
    "        print(a,\"number is odd\")"
   ]
  },
  {
   "cell_type": "markdown",
   "metadata": {},
   "source": [
    "### check whether an entered year is leap year or not"
   ]
  },
  {
   "cell_type": "code",
   "execution_count": 7,
   "metadata": {},
   "outputs": [],
   "source": [
    "year=1000"
   ]
  },
  {
   "cell_type": "code",
   "execution_count": 17,
   "metadata": {},
   "outputs": [
    {
     "name": "stdout",
     "output_type": "stream",
     "text": [
      "1000 is not leap year\n"
     ]
    }
   ],
   "source": [
    "if(year%4)==0:\n",
    "    if(year%100)==0:\n",
    "        if(year%400)==0:\n",
    "            print(\"{0} is leap year\".format(year))\n",
    "        else:\n",
    "            print(\"{0} is not leap year\".format(year))\n",
    "    else:\n",
    "            print(\"{0} is leap year\".format (year))\n",
    "else:\n",
    "            print(\"{0} is leap year\".format(year))"
   ]
  },
  {
   "cell_type": "markdown",
   "metadata": {},
   "source": [
    "### vowel or not"
   ]
  },
  {
   "cell_type": "code",
   "execution_count": 22,
   "metadata": {},
   "outputs": [
    {
     "name": "stdout",
     "output_type": "stream",
     "text": [
      "enter a character:e\n",
      "e is a vowel\n"
     ]
    }
   ],
   "source": [
    "ch=input(\"enter a character:\")\n",
    "if(ch=='A'or ch=='a'or ch=='e'or ch=='E' or ch=='I'or ch=='i'or ch=='O'or ch=='o'):\n",
    "    print(ch,\"is a vowel\")\n",
    "else:(ch,\"is a consonant\")"
   ]
  },
  {
   "cell_type": "code",
   "execution_count": 7,
   "metadata": {},
   "outputs": [
    {
     "name": "stdout",
     "output_type": "stream",
     "text": [
      "Manavrachna\n",
      "11\n"
     ]
    }
   ],
   "source": [
    "var=\"Manavrachna\"\n",
    "print(var)\n",
    "count=0\n",
    "for i in var:\n",
    "    count=count+1;\n",
    "print(count)"
   ]
  },
  {
   "cell_type": "code",
   "execution_count": 22,
   "metadata": {},
   "outputs": [
    {
     "name": "stdout",
     "output_type": "stream",
     "text": [
      "my $other $akes $ud pie\n"
     ]
    }
   ],
   "source": [
    "var=\"my mother makes mud pie\"\n",
    "var.replace (\"m\",'$')\n",
    "char1=var[0:1]\n",
    "x=var.replace(char1,'$')\n",
    "\n",
    "print(char1+x[1:])\n"
   ]
  },
  {
   "cell_type": "code",
   "execution_count": 26,
   "metadata": {},
   "outputs": [
    {
     "data": {
      "text/plain": [
       "11"
      ]
     },
     "execution_count": 26,
     "metadata": {},
     "output_type": "execute_result"
    }
   ],
   "source": [
    "var=\"manavrachna\"\n",
    "len(var)\n"
   ]
  },
  {
   "cell_type": "code",
   "execution_count": 30,
   "metadata": {},
   "outputs": [
    {
     "name": "stdout",
     "output_type": "stream",
     "text": [
      "ma na\n"
     ]
    }
   ],
   "source": [
    "var=\"manavrachna\"\n",
    "print(var[0:2]+\" \"+var[-2:])\n",
    "\n"
   ]
  },
  {
   "cell_type": "code",
   "execution_count": 35,
   "metadata": {},
   "outputs": [
    {
     "name": "stdout",
     "output_type": "stream",
     "text": [
      "wollo herld\n"
     ]
    }
   ],
   "source": [
    "x=\"hello\"\n",
    "y=\"world\"\n",
    "var1=x.replace(\"he\",\"wo\")\n",
    "var2=y.replace(\"wo\",\"he\")\n",
    "print(var1+\" \"+var2)\n"
   ]
  },
  {
   "cell_type": "markdown",
   "metadata": {},
   "source": [
    "var=\"count\"\n",
    "b=\"ing\"\n",
    "var+=b\n",
    "print(\"string is\"+var)\n"
   ]
  },
  {
   "cell_type": "code",
   "execution_count": null,
   "metadata": {},
   "outputs": [],
   "source": []
  }
 ],
 "metadata": {
  "kernelspec": {
   "display_name": "Python 3",
   "language": "python",
   "name": "python3"
  },
  "language_info": {
   "codemirror_mode": {
    "name": "ipython",
    "version": 3
   },
   "file_extension": ".py",
   "mimetype": "text/x-python",
   "name": "python",
   "nbconvert_exporter": "python",
   "pygments_lexer": "ipython3",
   "version": "3.7.4"
  }
 },
 "nbformat": 4,
 "nbformat_minor": 2
}
